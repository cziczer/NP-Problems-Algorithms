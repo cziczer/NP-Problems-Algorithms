{
 "cells": [
  {
   "cell_type": "code",
   "execution_count": 2,
   "metadata": {},
   "outputs": [],
   "source": [
    "from dimacs import *\n",
    "\n",
    "G = loadGraph('./graph/e150')"
   ]
  },
  {
   "cell_type": "markdown",
   "metadata": {},
   "source": [
    "## Algorytm 2-aproksymacyjny \n",
    "\n",
    "wybieramy niepokrytą krawędź, dodajemy oba jej wierzchołki do rozwiązania"
   ]
  },
  {
   "cell_type": "code",
   "execution_count": 6,
   "metadata": {},
   "outputs": [
    {
     "name": "stdout",
     "output_type": "stream",
     "text": [
      "{1, 2, 3, 4, 5, 6, 7, 8, 9, 10, 11, 12, 13, 14, 15, 16, 17, 18, 19, 20, 21, 22, 23, 24, 25, 26, 27, 28, 29, 30, 31, 32, 33, 34, 35, 36, 37, 38, 39, 40, 41, 42, 43, 44, 45, 46, 47, 48, 49, 50, 51, 52, 53, 54, 55, 56, 57, 58, 59, 60, 61, 62, 63, 64, 65, 66, 67, 69, 70, 71, 72, 73, 75, 77, 78, 80, 82, 83, 84, 86, 87, 88, 89, 91, 93, 95, 96, 97, 98, 99, 100, 101, 102, 104, 105, 106, 107, 109, 111, 112, 114, 116, 121, 122, 123, 124, 125, 126, 127, 128, 129, 130, 131, 132, 134, 135, 136, 137, 139, 140, 144, 145, 146, 148, 149, 150} - 126\n"
     ]
    }
   ],
   "source": [
    "def two_approximation(G):\n",
    "    E = edgeList(G)\n",
    "    result = set()\n",
    "    for u, v in E:\n",
    "        if u not in result and v not in result:\n",
    "            result.add(u)\n",
    "            result.add(v)\n",
    "\n",
    "    return result\n",
    "\n",
    "cover = two_approximation(G)\n",
    "print(f\"{cover} - {len(cover)}\")"
   ]
  },
  {
   "cell_type": "markdown",
   "metadata": {},
   "source": [
    "## Algorytm O(logn)-aproksymacyjny \n",
    "\n",
    "dodajemy do rozwiązania wierzchołek o najwyższym aktualnym stopniu"
   ]
  },
  {
   "cell_type": "code",
   "execution_count": 13,
   "metadata": {},
   "outputs": [
    {
     "name": "stdout",
     "output_type": "stream",
     "text": [
      "{1, 2, 3, 4, 5, 6, 7, 8, 9, 10, 11, 12, 13, 14, 15, 16, 17, 18, 20, 22, 23, 24, 26, 27, 28, 29, 30, 32, 34, 35, 36, 37, 38, 39, 40, 41, 42, 44, 46, 47, 49, 50, 51, 55, 57, 60, 62, 64, 69, 70, 72, 75, 79, 80, 81, 82, 84, 86, 87, 89, 92, 94, 95, 96, 97, 98, 100, 101, 103, 106, 107, 108, 109, 111, 115, 121, 122, 125, 126, 127, 131, 134, 147} - 83\n"
     ]
    }
   ],
   "source": [
    "def nlog_approximation(G):\n",
    "    v_deg = [len(vertex) for vertex in G]\n",
    "    E = edgeList(G)\n",
    "    result = set()\n",
    "\n",
    "    while len(E) != 0:\n",
    "        vertex = v_deg.index(max(v_deg))\n",
    "        result.add(vertex)\n",
    "        for edge in E:\n",
    "            if edge[0] == vertex or edge[1] == vertex:\n",
    "                v_deg[edge[0]] -= 1\n",
    "                v_deg[edge[1]] -= 1\n",
    "        E = [e for e in E if vertex not in [e[0], e[1]]]\n",
    "\n",
    "    return result\n",
    "\n",
    "cover = nlog_approximation(G)\n",
    "print(f\"{cover} - {len(cover)}\")"
   ]
  },
  {
   "cell_type": "code",
   "execution_count": null,
   "metadata": {},
   "outputs": [],
   "source": []
  }
 ],
 "metadata": {
  "kernelspec": {
   "display_name": "Python 3",
   "language": "python",
   "name": "python3"
  },
  "language_info": {
   "codemirror_mode": {
    "name": "ipython",
    "version": 3
   },
   "file_extension": ".py",
   "mimetype": "text/x-python",
   "name": "python",
   "nbconvert_exporter": "python",
   "pygments_lexer": "ipython3",
   "version": "3.8.3"
  }
 },
 "nbformat": 4,
 "nbformat_minor": 4
}
