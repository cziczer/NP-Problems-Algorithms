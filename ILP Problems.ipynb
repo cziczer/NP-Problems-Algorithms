{
 "cells": [
  {
   "cell_type": "markdown",
   "metadata": {},
   "source": [
    "zminimalizuj: x + y\n",
    "\n",
    "przy ograniczeniach:\n",
    "\n",
    "   y ≥ x -1\n",
    "\n",
    "   y ≥ -4x + 4\n",
    "\n",
    "   y ≤ -0.5x + 3\n",
    "\n",
    "Podstawy PuLP. Z bilioteki PuLP korzysta się w następujący sposób:\n",
    "\n",
    "należy stworzyć obiekt “modelu” (czyli obiekt, który opisuje całe zadanie optymalizacyjne).\n",
    "dla każdej zmiennej należy stworzyć obiekt tej zmiennej (z odpowiednimi informacjami o niej, np. czy jest to zmienna całkowita, ciągła, czy zero-jedynkowa)\n",
    "do modelu należy dodać funkcję celu, która będzie optymalizowana (minimalizowana lub maksymalizowana, zależnie od modelu)\n",
    "do modelu należy dodać nierówności liniowe definiujące ograniczenia.\n",
    "następnie model można rozwiązać i odczytać wartości zmiennych oraz status rozwiązania (optymalne, nieograniczone itp.)"
   ]
  },
  {
   "cell_type": "code",
   "execution_count": 2,
   "metadata": {},
   "outputs": [
    {
     "name": "stdout",
     "output_type": "stream",
     "text": [
      "Task_1_(Integer):\n",
      "MINIMIZE\n",
      "1*x + 1*y + 0\n",
      "SUBJECT TO\n",
      "_C1: - x + y >= -1\n",
      "\n",
      "_C2: 4 x + y >= 4\n",
      "\n",
      "_C3: 0.5 x + y <= 3\n",
      "\n",
      "VARIABLES\n",
      "x free Integer\n",
      "y free Integer\n",
      "\n",
      "Optimal\n",
      "x = 1.0\n",
      "y = 0.0\n",
      "1.0\n"
     ]
    },
    {
     "name": "stderr",
     "output_type": "stream",
     "text": [
      "C:\\Users\\Mateusz\\anaconda3\\lib\\site-packages\\pulp\\pulp.py:1199: UserWarning: Spaces are not permitted in the name. Converted to '_'\n",
      "  warnings.warn(\"Spaces are not permitted in the name. Converted to '_'\")\n"
     ]
    }
   ],
   "source": [
    "from pulp import *\n",
    "\n",
    "model = LpProblem(\"Task 1 (Integer)\", LpMinimize)\n",
    "\n",
    "x = LpVariable(\"x\", cat=\"Integer\")\n",
    "y = LpVariable(\"y\", cat=\"Integer\")\n",
    "\n",
    "model += x + y\n",
    "\n",
    "model += y >= x - 1\n",
    "model += y >= -4 * x + 4\n",
    "model += y <= -0.5 * x + 3\n",
    "\n",
    "print(model)\n",
    "\n",
    "model.solve()\n",
    "print(LpStatus[model.status])\n",
    "\n",
    "for var in model.variables():\n",
    "    print(var.name, \"=\", var.varValue)\n",
    "\n",
    "print(value(model.objective))"
   ]
  },
  {
   "cell_type": "code",
   "execution_count": null,
   "metadata": {},
   "outputs": [],
   "source": [
    "## VertexCover"
   ]
  }
 ],
 "metadata": {
  "kernelspec": {
   "display_name": "Python 3",
   "language": "python",
   "name": "python3"
  },
  "language_info": {
   "codemirror_mode": {
    "name": "ipython",
    "version": 3
   },
   "file_extension": ".py",
   "mimetype": "text/x-python",
   "name": "python",
   "nbconvert_exporter": "python",
   "pygments_lexer": "ipython3",
   "version": "3.8.3"
  }
 },
 "nbformat": 4,
 "nbformat_minor": 4
}
