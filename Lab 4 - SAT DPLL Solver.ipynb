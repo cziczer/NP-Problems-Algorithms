{
 "cells": [
  {
   "cell_type": "markdown",
   "metadata": {},
   "source": [
    "## Solwer DPLL\n",
    "\n",
    "Podstawowa różnica między poprzednim solwerem a solwerem DPLL to wykonywanie propagacji jednostkowej (ang. unit propagation) oraz ustawiania wartości zmiennych występujących tylko z jednym znakiem przed zejściami rekurencyjnymi"
   ]
  },
  {
   "cell_type": "code",
   "execution_count": 1,
   "metadata": {},
   "outputs": [],
   "source": [
    "from dimacs import *"
   ]
  },
  {
   "cell_type": "code",
   "execution_count": 2,
   "metadata": {},
   "outputs": [],
   "source": [
    "def is_clause_correct(C, V):\n",
    "    return len([l for l in C if l in V and V[l] == 1]) > 0\n",
    "\n",
    "\n",
    "def simplify_clause(C, V):\n",
    "    if is_clause_correct(C, V):\n",
    "        return None\n",
    "    return [l for l in C if l not in V or V[l] != -1]\n",
    "\n",
    "\n",
    "def simplifyCNF(cnf, V):\n",
    "    newCnf = (cnf[0], [])\n",
    "    for c in cnf[1]:\n",
    "        simp = simplify_clause(c, V)\n",
    "        if simp is None:\n",
    "            continue\n",
    "        if len(simp) == 0:\n",
    "            return None\n",
    "        newCnf[1].append(simp)\n",
    "\n",
    "    return newCnf\n",
    "\n",
    "\n",
    "def get_V_with_v_1(V, v):\n",
    "    new_V = V.copy()\n",
    "    new_V[v] = 1\n",
    "    new_V[-v] = -1\n",
    "    return new_V"
   ]
  },
  {
   "cell_type": "markdown",
   "metadata": {},
   "source": [
    "## Unit Propagation\n",
    "\n",
    "Optymalizacja ta polega na tym, że przeglądamy wszystkie klauzule i jeśli znajdziemy klauzulę składającą się z jednego literału, to wiadomo, że należy mu przypisać wartość 1. Oczywiście przypisanie wartości jednemu takiemu literałowi może spowodować, że powstają kolejne, tak więc operację tę należy wykonywać dopóki (a) formuła nie zostanie spełniona, (b) nie dojdziemy do sprzecznośclu, lub (c) nie ma więcej klauzul jednostkowych."
   ]
  },
  {
   "cell_type": "code",
   "execution_count": 3,
   "metadata": {},
   "outputs": [],
   "source": [
    "def unit_propagation(cnf, V):\n",
    "    newCnf = cnf[1].copy()\n",
    "    newV = V.copy()\n",
    "\n",
    "    while True:\n",
    "        one_clause = next((c for c in newCnf if len(c) == 1), None)\n",
    "        if one_clause is None:\n",
    "            return (cnf[0], newCnf), newV\n",
    "        if one_clause[0] in newV and newV[one_clause[0]] == -1:\n",
    "            return None, newV\n",
    "\n",
    "        newV[one_clause[0]] = 1\n",
    "        newV[-one_clause[0]] = -1\n",
    "        tmp = simplifyCNF((cnf[0], newCnf), newV)\n",
    "        if tmp is None:\n",
    "            return None, newV\n",
    "        newCnf = tmp[1]\n",
    "\n",
    "\n",
    "def is_in_every_clause(clauses, l):\n",
    "    for c in clauses:\n",
    "        if not l in c:\n",
    "            return False\n",
    "    return True\n",
    "\n",
    "\n",
    "def fix_const(cnf, V):\n",
    "    newCnf = cnf[1].copy()\n",
    "    newV = V.copy()\n",
    "    for l in range(-cnf[0], cnf[0] + 1):\n",
    "        if l == 0:\n",
    "            continue\n",
    "        if is_in_every_clause(newCnf, l):\n",
    "            newV[l] = 1\n",
    "            newV[-l] = -1\n",
    "            tmp = simplifyCNF((cnf[0], newCnf), newV)\n",
    "            if tmp is None:\n",
    "                return None, newV\n",
    "            newCnf = tmp[1]\n",
    "\n",
    "    return (cnf[0], newCnf), newV"
   ]
  },
  {
   "cell_type": "code",
   "execution_count": 4,
   "metadata": {},
   "outputs": [],
   "source": [
    "def solve(cnf, V):\n",
    "    if not cnf[1]:\n",
    "        return V\n",
    "\n",
    "    cnf, V = unit_propagation(cnf, V)\n",
    "    if cnf is None:\n",
    "        return \"UNSAT\"\n",
    "    if not cnf[1]:\n",
    "        return V\n",
    "\n",
    "    cnf, V = fix_const(cnf, V)\n",
    "    if cnf is None:\n",
    "        return \"UNSAT\"\n",
    "    if not cnf[1]:\n",
    "        return V\n",
    "\n",
    "    v = abs(cnf[1][0][0])\n",
    "    V1 = get_V_with_v_1(V, v)\n",
    "    V2 = get_V_with_v_1(V, -v)\n",
    "    cnf1 = simplifyCNF(cnf, V1)\n",
    "    cnf2 = simplifyCNF(cnf, V2)\n",
    "\n",
    "    if cnf1 is not None:\n",
    "        sol = solve(cnf1, V1)\n",
    "        if sol != \"UNSAT\":\n",
    "            return sol\n",
    "    if cnf2 is not None:\n",
    "        sol = solve(cnf2, V2)\n",
    "        if sol != \"UNSAT\":\n",
    "            return sol\n",
    "\n",
    "    return \"UNSAT\""
   ]
  },
  {
   "cell_type": "code",
   "execution_count": 8,
   "metadata": {},
   "outputs": [
    {
     "name": "stdout",
     "output_type": "stream",
     "text": [
      "SAT solution for test 5.no.sat is UNSAT\n",
      "\n",
      "SAT solution for test 5.yes.sat is {14: 1, -14: -1, -7: 1, 7: -1, -11: 1, 11: -1, -8: 1, 8: -1, 4: 1, -4: -1, -1: 1, 1: -1, -10: 1, 10: -1, -5: 1, 5: -1, 13: 1, -13: -1, -2: 1, 2: -1, 6: 1, -6: -1, -9: 1, 9: -1, 12: 1, -12: -1, -3: 1, 3: -1}\n",
      "\n",
      "SAT solution for test 10.no.sat is UNSAT\n",
      "\n",
      "SAT solution for test 10.yes.sat is {-12: 1, 12: -1, -22: 1, 22: -1, 29: 1, -29: -1, -1: 1, 1: -1, -3: 1, 3: -1, -14: 1, 14: -1, -23: 1, 23: -1, 8: 1, -8: -1, -27: 1, 27: -1, 24: 1, -24: -1, -21: 1, 21: -1, -26: 1, 26: -1, 30: 1, -30: -1, -16: 1, 16: -1, 28: 1, -28: -1, 5: 1, -5: -1, -17: 1, 17: -1, -20: 1, 20: -1, -18: 1, 18: -1, 4: 1, -4: -1, -6: 1, 6: -1, 25: 1, -25: -1, -9: 1, 9: -1, -7: 1, 7: -1, 15: 1, -15: -1, 2: 1, -2: -1, -19: 1, 19: -1, -13: 1, 13: -1, -11: 1, 11: -1, -10: 1, 10: -1}\n",
      "\n",
      "SAT solution for test 20.no.sat is UNSAT\n",
      "\n",
      "SAT solution for test 20.yes.sat is {8: 1, -8: -1, -1: 1, 1: -1, -3: 1, 3: -1, -16: 1, 16: -1, -22: 1, 22: -1, -14: 1, 14: -1, 51: 1, -51: -1, -21: 1, 21: -1, -23: 1, 23: -1, 27: 1, -27: -1, -12: 1, 12: -1, -44: 1, 44: -1, 37: 1, -37: -1, -25: 1, 25: -1, 36: 1, -36: -1, -46: 1, 46: -1, -52: 1, 52: -1, -35: 1, 35: -1, -55: 1, 55: -1, 20: 1, -20: -1, 31: 1, -31: -1, -26: 1, 26: -1, -57: 1, 57: -1, 40: 1, -40: -1, -54: 1, 54: -1, -17: 1, 17: -1, -30: 1, 30: -1, -56: 1, 56: -1, 29: 1, -29: -1, -32: 1, 32: -1, -38: 1, 38: -1, 41: 1, -41: -1, -34: 1, 34: -1, 48: 1, -48: -1, 10: 1, -10: -1, -15: 1, 15: -1, -45: 1, 45: -1, 59: 1, -59: -1, -18: 1, 18: -1, 43: 1, -43: -1, -13: 1, 13: -1, -33: 1, 33: -1, 5: 1, -5: -1, -49: 1, 49: -1, 39: 1, -39: -1, 7: 1, -7: -1, -53: 1, 53: -1, -50: 1, 50: -1, -19: 1, 19: -1, -47: 1, 47: -1, 11: 1, -11: -1, -42: 1, 42: -1, 28: 1, -28: -1, -2: 1, 2: -1, -24: 1, 24: -1, -9: 1, 9: -1, 4: 1, -4: -1, -58: 1, 58: -1, -6: 1, 6: -1}\n",
      "\n",
      "SAT solution for test 30.no.sat is UNSAT\n",
      "\n",
      "SAT solution for test 30.yes.sat is {44: 1, -44: -1, -47: 1, 47: -1, -80: 1, 80: -1, -22: 1, 22: -1, -36: 1, 36: -1, 61: 1, -61: -1, -19: 1, 19: -1, 60: 1, -60: -1, -37: 1, 37: -1, -70: 1, 70: -1, -35: 1, 35: -1, -46: 1, 46: -1, -49: 1, 49: -1, -33: 1, 33: -1, -77: 1, 77: -1, -1: 1, 1: -1, -57: 1, 57: -1, -8: 1, 8: -1, 38: 1, -38: -1, -51: 1, 51: -1, -15: 1, 15: -1, -43: 1, 43: -1, 23: 1, -23: -1, -25: 1, 25: -1, 74: 1, -74: -1, 48: 1, -48: -1, -78: 1, 78: -1, -39: 1, 39: -1, -18: 1, 18: -1, -63: 1, 63: -1, 81: 1, -81: -1, -26: 1, 26: -1, 24: 1, -24: -1, -5: 1, 5: -1, 11: 1, -11: -1, -89: 1, 89: -1, -41: 1, 41: -1, -82: 1, 82: -1, -32: 1, 32: -1, 4: 1, -4: -1, 90: 1, -90: -1, -3: 1, 3: -1, 62: 1, -62: -1, 29: 1, -29: -1, -67: 1, 67: -1, -14: 1, 14: -1, -87: 1, 87: -1, 75: 1, -75: -1, -56: 1, 56: -1, -42: 1, 42: -1, -71: 1, 71: -1, 2: 1, -2: -1, -7: 1, 7: -1, -64: 1, 64: -1, 28: 1, -28: -1, -6: 1, 6: -1, -30: 1, 30: -1, 65: 1, -65: -1, -68: 1, 68: -1, 45: 1, -45: -1, -84: 1, 84: -1, 13: 1, -13: -1, -21: 1, 21: -1, -50: 1, 50: -1, -72: 1, 72: -1, 76: 1, -76: -1, -40: 1, 40: -1, 52: 1, -52: -1, -59: 1, 59: -1, 17: 1, -17: -1, -58: 1, 58: -1, 20: 1, -20: -1, -55: 1, 55: -1, 79: 1, -79: -1, -88: 1, 88: -1, 69: 1, -69: -1, 54: 1, -54: -1, -27: 1, 27: -1, -12: 1, 12: -1, 73: 1, -73: -1, -53: 1, 53: -1, 10: 1, -10: -1, -16: 1, 16: -1, -85: 1, 85: -1, 31: 1, -31: -1, -9: 1, 9: -1, -86: 1, 86: -1, -34: 1, 34: -1, -66: 1, 66: -1, -83: 1, 83: -1}\n",
      "\n"
     ]
    }
   ],
   "source": [
    "for test in ['5.no.sat', '5.yes.sat', '10.no.sat', '10.yes.sat', '20.no.sat', '20.yes.sat', '30.no.sat', '30.yes.sat']:\n",
    "    cnf = loadCNF(f'sat/{test}')\n",
    "    V = {}\n",
    "\n",
    "    result = solve(cnf, V)\n",
    "    print(f\"SAT solution for test {test} is {str(result)}\\n\")"
   ]
  },
  {
   "cell_type": "code",
   "execution_count": null,
   "metadata": {},
   "outputs": [],
   "source": []
  }
 ],
 "metadata": {
  "kernelspec": {
   "display_name": "Python 3",
   "language": "python",
   "name": "python3"
  },
  "language_info": {
   "codemirror_mode": {
    "name": "ipython",
    "version": 3
   },
   "file_extension": ".py",
   "mimetype": "text/x-python",
   "name": "python",
   "nbconvert_exporter": "python",
   "pygments_lexer": "ipython3",
   "version": "3.8.3"
  }
 },
 "nbformat": 4,
 "nbformat_minor": 4
}
