{
 "cells": [
  {
   "cell_type": "markdown",
   "metadata": {},
   "source": [
    "W problemie VertexCover mamy dany graf G = (V,E) oraz liczbę naturalną k. Należy sprawdzić, czy istnieje zbiór k wierzchołków takich, że każda krawędź dotyka co najmniej jednego wybranego wierzchołka. Jest to jeden z klasycznych problemów NP-zupełnych."
   ]
  },
  {
   "cell_type": "code",
   "execution_count": 3,
   "metadata": {},
   "outputs": [],
   "source": [
    "from dimacs import *\n",
    "from itertools import combinations\n",
    "from copy import deepcopy\n",
    "\n",
    "G = loadGraph('./graph/e10')\n",
    "E = edgeList(G)"
   ]
  },
  {
   "cell_type": "markdown",
   "metadata": {},
   "source": [
    "## Brute-Force: O(n^k)"
   ]
  },
  {
   "cell_type": "code",
   "execution_count": 4,
   "metadata": {},
   "outputs": [
    {
     "name": "stdout",
     "output_type": "stream",
     "text": [
      "3: (3, 6, 10)\n"
     ]
    }
   ],
   "source": [
    "def vc_brute(G, E):\n",
    "    for i in range(1, len(G)):\n",
    "        for S in combinations(range(len(G)), i):\n",
    "            if isVC(E, S):\n",
    "                print(str(i) + \": \" + str(S))\n",
    "                return\n",
    "            \n",
    "vc_brute(G, E)"
   ]
  },
  {
   "cell_type": "markdown",
   "metadata": {},
   "source": [
    "## Rekurencja z powrotami: O(2k)"
   ]
  },
  {
   "cell_type": "markdown",
   "metadata": {},
   "source": [
    "Ten algorytm opiera się na obserwacji, że dla każdej krawędzi e = {u,v} należy wybrać co najmniej jeden z wierzchołków u i v. Algorytm działa więc następująco:"
   ]
  },
  {
   "cell_type": "code",
   "execution_count": 6,
   "metadata": {},
   "outputs": [
    {
     "name": "stdout",
     "output_type": "stream",
     "text": [
      "3: {10, 3, 6}\n"
     ]
    }
   ],
   "source": [
    "def VC_2k(E, k, S):\n",
    "    # G to graf wejściowy, k liczba wierzchołków, które możemy użyć\n",
    "    # S to zbiór wierzchołków, który budujemy\n",
    "\n",
    "    # wybierz dowolną krawędź e = {u, v}, która nie jest\n",
    "    # jeszcze pokryta(czyli ani u ani v nie jest wybrany)\n",
    "    free_edge = None\n",
    "\n",
    "    for i, e in enumerate(E):\n",
    "        if e[0] not in S and e[1] not in S:\n",
    "            free_edge = e\n",
    "            edge_idx = i\n",
    "            break\n",
    "\n",
    "    if free_edge is None:\n",
    "        return S  # rozwiązanie znalezione\n",
    "\n",
    "    if k == 0:\n",
    "        return None  # nie ma rozwiązania\n",
    "\n",
    "    E = E[edge_idx:]\n",
    "\n",
    "    u, v = free_edge\n",
    "\n",
    "    return VC_k(E, k - 1, S.union({u})) or VC_k(E, k - 1, S.union({v}))\n",
    "\n",
    "\n",
    "def vc_recursion_2k(G, E):\n",
    "    for k in range(1, len(G)):\n",
    "        S = set()\n",
    "        S = VC_2k(E.copy(), k, S)\n",
    "        if S:\n",
    "            print(str(len(S)) + \": \" + str(S))\n",
    "            return\n",
    "        \n",
    "vc_recursion_2k(G, E)"
   ]
  },
  {
   "cell_type": "markdown",
   "metadata": {},
   "source": [
    "## Rekurencja z powrotami: O(1.618k)"
   ]
  },
  {
   "cell_type": "markdown",
   "metadata": {},
   "source": [
    "Ten algorytm opiera się na obserwacji, że jeśli rozważamy wierzchołek u, to do rozwiązania należy albo wziąć u, albo wszystkich jego sąsiadów (inaczej nie ma jak pokryć krawędzi łączących u z sąsiadami)."
   ]
  },
  {
   "cell_type": "code",
   "execution_count": 68,
   "metadata": {},
   "outputs": [
    {
     "name": "stdout",
     "output_type": "stream",
     "text": [
      "3: {10, 3, 6}\n"
     ]
    }
   ],
   "source": [
    "import copy\n",
    "\n",
    "def solve(G, k, S):\n",
    "    # G to graf wejściowy, k liczba wierzchołków, które możemy użyć\n",
    "    # S to zbiór wierzchołków, który budujemy\n",
    "    E = edgeList(G)\n",
    "    if k <= 0:\n",
    "        return None\n",
    "    if len(E) == 0:\n",
    "        return S\n",
    "\n",
    "    u, v = E[0]\n",
    "    new_set_1 = S.copy()\n",
    "    new_set_1.add(u)\n",
    "    new_graph = copy.deepcopy(G)\n",
    "    for vertex_connections in new_graph:\n",
    "        if u in vertex_connections:\n",
    "            vertex_connections.remove(u)\n",
    "    new_graph[u] = set()\n",
    "    S1 = solve(new_graph, k - 1, new_set_1)\n",
    "    if S1:\n",
    "        return S1\n",
    "    \n",
    "    new_graph_2 = copy.deepcopy(G)\n",
    "    current_neightbour = new_graph_2[u].copy()\n",
    "    for neighbour in current_neightbour:\n",
    "        for vertex_connections in new_graph_2:\n",
    "            if neighbour in vertex_connections:\n",
    "                vertex_connections.remove(neighbour)\n",
    "        new_graph_2[neighbour] = set()\n",
    "    S2 = solve(new_graph_2 ,k - len(G[u]) ,set.union(S.copy(), G[u]))\n",
    "\n",
    "    return S2\n",
    "    \n",
    "def vs_recursion_1618k(G):\n",
    "    for k in range(1, len(G)):\n",
    "        S = set()\n",
    "        S = solve(G, k, S)\n",
    "        if S and isVC(E, S):\n",
    "            print(str(len(S)) + \": \" + str(S))\n",
    "            return\n",
    "            \n",
    "G = loadGraph('./graph/e10')\n",
    "vs_recursion_1618k(G)"
   ]
  },
  {
   "cell_type": "markdown",
   "metadata": {},
   "source": [
    "## Rekurencja z powrotami: O(1.47k)"
   ]
  },
  {
   "cell_type": "markdown",
   "metadata": {},
   "source": [
    "To ten sam algorytm, co powyżej ale z rozsądniejszym wyborem wierzchołków u. Za każdym razem wybieramy wierzchołek o jak największym stopniu (a przynajmniej o stopniu większym od 2). Gdy zostaną same wierzchołki o stopniu 1 i 2, to rozwiązujemy problem w czasie wielomianowym (wówczas graf to zbiór ścieżek i cykli i powinni Państwo być w stanie wskazać algorytm wielomianowy samodzielnie).\n",
    "\n",
    "Alternatywne podejście (łatwiejsze w implementacji):\n",
    "\n",
    "* gdy mamy choć jeden wierzchołek o stopniu 1 to wiadomo, że należy do rozwiązania dodać jego jedynego sąsiada (i usunąć z grafu u i N(u))\n",
    "* jeśli nie ma żadnego wierzchołka o stopniu 1, to wybieramy wierzchołek o jak najwyższym stopniu (zwróćmy uwagę, że jeśli zostały nam same wierzchołki o stopniu 2, to tworzą one cykle i każdy cykl rozetniemy w jednym zejściu rekurencyjnym tak, że pojawią się wierzchołki o stopniu 1)"
   ]
  },
  {
   "cell_type": "code",
   "execution_count": null,
   "metadata": {},
   "outputs": [],
   "source": []
  }
 ],
 "metadata": {
  "kernelspec": {
   "display_name": "Python 3",
   "language": "python",
   "name": "python3"
  },
  "language_info": {
   "codemirror_mode": {
    "name": "ipython",
    "version": 3
   },
   "file_extension": ".py",
   "mimetype": "text/x-python",
   "name": "python",
   "nbconvert_exporter": "python",
   "pygments_lexer": "ipython3",
   "version": "3.8.3"
  }
 },
 "nbformat": 4,
 "nbformat_minor": 4
}
