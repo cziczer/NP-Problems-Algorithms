{
 "cells": [
  {
   "cell_type": "code",
   "execution_count": 8,
   "metadata": {},
   "outputs": [],
   "source": [
    "import pycosat\n",
    "import random\n",
    "from dimacs import *\n",
    "import matplotlib.pyplot as plt"
   ]
  },
  {
   "cell_type": "markdown",
   "metadata": {},
   "source": [
    "## Przejście fazowe SAT\n",
    "\n",
    "W ramach tego zadania należy sporządzić wykres, który pokazuje prawdopodobieństwo, że losowo wygenerowana formuła w formacie k-CNF (k literałów na klauzulę) jest spełnialna, w zależności od ilorazu liczby klauzul i liczby zmiennych.\n",
    "\n",
    "Generowanie losowej klauzuli. Załóżmy, że mamy n zmiennych do dyspozycji (o numerach 1, …, n). Losowa klauzula rozmiaru k składa się z losowo wybranych k zmiennych (z powtarzaniem), z których każda jest zanegowana/niezanegowana z prawdopodobieństwem 1/2."
   ]
  },
  {
   "cell_type": "code",
   "execution_count": 5,
   "metadata": {},
   "outputs": [
    {
     "data": {
      "image/png": "[encoded data removed]",
      "text/plain": [
       "<Figure size 432x288 with 1 Axes>"
      ]
     },
     "metadata": {
      "needs_background": "light"
     },
     "output_type": "display_data"
    }
   ],
   "source": [
    "def sat_phase_transition(n: int, k: int, T: int):\n",
    "    inverse_step = 10\n",
    "    x = []\n",
    "    y = []\n",
    "    for i in range(1, 9 * inverse_step):\n",
    "        a = int((1 + i / inverse_step) * n)\n",
    "\n",
    "        satisfiable = 0\n",
    "        for j in range(T):\n",
    "            formula = [[random.choice(range(1, n + 1)) * random.choice([1, -1]) # n zmiennych zanegowana / nie\n",
    "                        for _ in range(k)]\n",
    "                        for _ in range(a)]\n",
    "            if pycosat.solve(formula) != u'UNSAT':\n",
    "                satisfiable += 1\n",
    "\n",
    "        res = satisfiable / T\n",
    "\n",
    "        x.append(a)\n",
    "        y.append(res)\n",
    "\n",
    "    plt.plot(x, y)\n",
    "    plt.show()\n",
    "    \n",
    "sat_phase_transition(10, 3, 100)"
   ]
  },
  {
   "cell_type": "markdown",
   "metadata": {},
   "source": [
    "## Exact Cover by 3-Sets (X3C)\n",
    "\n",
    "W tym zadaniu należy zaimplementować redukcję pewnego wariantu problemu X3C do SAT oraz wykorzystać solwer SAT do rozwiązywania przykładowych instancji X3C.\n",
    "\n",
    "W problemie X3C mamy dany zbiór elementów N = {1, …, 3k} oraz rodzinę zbiorów *S = {S1, …, Sm}* gdzie m <= 3k. Każdy zbiór Si zawiera trzy elementy ze zbioru N a każdy element z N występuje najwyżej w trzech zbiorach z rodziny S. Pytanie brzmi czy da się wybrać k zbiorów tak, że każdy element zbioru N należy do dokładnie jednego wybranego zbioru.\n",
    "\n",
    "### Redukcja do SAT\n",
    "Pomysł redukcji polega na tym, że dla każdego zbioru *Si* tworzymy zmiennę logiczną xi, której wartość interpretujemy następująco:\n",
    "\n",
    " - jeśli xi = 1 to zbiór *Si należy do rozwiązania,\n",
    " - jeśli xi = 0 to zbiór *Si nie należy do rozwiązania.\n",
    " \n",
    "Następnie tworzymy następujące klauzule. Dla każdego elementu j ze zbioru N tworzymy klauzulę, która składa się ze zmiennych odpowiadających zbiorom, do których należy j. Na przykład, jeśli element 1 należy do zbiorów S6, S9 oraz S11 to tworzymy klauzulę:\n",
    "\n",
    "( (x6 ∨ x9 ∨ x11) )\n",
    "\n",
    "która wymusza, że co najmniej jeden z tych zbiorów jest wybrany. Następnie dla każdej takiej klauzuli należy zapewnić, że żadne dwa zbiory zawierające ten sam element nie są wybrane jednocześnie. Dla powyższego przykładu wystarczy dodać trzy klauzule:\n",
    "\n",
    "( (-x6 ∨ -x9) ∧ (-x6 ∨ -x11) ∧ (-x9 ∨ -x11) )\n",
    "\n",
    "Każda z powyższych klauzul mówi, że spośród dwóch zbiorów co najwyżej jeden może być wybrany."
   ]
  },
  {
   "cell_type": "code",
   "execution_count": 7,
   "metadata": {},
   "outputs": [
    {
     "data": {
      "text/plain": [
       "False"
      ]
     },
     "execution_count": 7,
     "metadata": {},
     "output_type": "execute_result"
    }
   ],
   "source": [
    "def solve_x3c():\n",
    "    test_name = '10.no.x3c'\n",
    "    tests_dir = 'x3c'\n",
    "    test = f'{tests_dir}/{test_name}'\n",
    "\n",
    "    n, x3c = loadX3C(test)\n",
    "\n",
    "    cnf = [[] for i in range(n)]\n",
    "\n",
    "    temp = []\n",
    "\n",
    "    for var in range(1, n+1):\n",
    "        for S in range(len(x3c)):\n",
    "            if var in x3c[S]:\n",
    "                cnf[var - 1].append(S + 1)\n",
    "\n",
    "        for i in range(len(cnf[var - 1])):\n",
    "            for j in range(len(cnf[var - 1])):\n",
    "                if i < j:\n",
    "                    temp.append([-cnf[var - 1][i], -cnf[var - 1][j]])\n",
    "\n",
    "    cnf += temp\n",
    "\n",
    "    return pycosat.solve(cnf) != \"UNSAT\"\n",
    "\n",
    "solve_x3c()"
   ]
  },
  {
   "cell_type": "code",
   "execution_count": null,
   "metadata": {},
   "outputs": [],
   "source": []
  }
 ],
 "metadata": {
  "kernelspec": {
   "display_name": "Python 3",
   "language": "python",
   "name": "python3"
  },
  "language_info": {
   "codemirror_mode": {
    "name": "ipython",
    "version": 3
   },
   "file_extension": ".py",
   "mimetype": "text/x-python",
   "name": "python",
   "nbconvert_exporter": "python",
   "pygments_lexer": "ipython3",
   "version": "3.8.3"
  }
 },
 "nbformat": 4,
 "nbformat_minor": 4
}
